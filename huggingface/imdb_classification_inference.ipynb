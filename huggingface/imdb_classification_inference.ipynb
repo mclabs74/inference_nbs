{
  "nbformat": 4,
  "nbformat_minor": 0,
  "metadata": {
    "colab": {
      "name": "hugging_face_imdb_classification_inference",
      "provenance": [],
      "collapsed_sections": [],
      "authorship_tag": "ABX9TyM7xyc4d26y4KgpLNebUVcg",
      "include_colab_link": true
    },
    "kernelspec": {
      "name": "python3",
      "display_name": "Python 3"
    },
    "language_info": {
      "name": "python"
    }
  },
  "cells": [
    {
      "cell_type": "markdown",
      "metadata": {
        "id": "view-in-github",
        "colab_type": "text"
      },
      "source": [
        "<a href=\"https://colab.research.google.com/github/mclabs74/inference_nbs/blob/dev/huggingface/imdb_classification_inference.ipynb\" target=\"_parent\"><img src=\"https://colab.research.google.com/assets/colab-badge.svg\" alt=\"Open In Colab\"/></a>"
      ]
    },
    {
      "cell_type": "code",
      "metadata": {
        "id": "E5lQP14OnE-H"
      },
      "source": [
        "# main_branch\n",
        "from pathlib import Path\n",
        "\n",
        "def create_requirements_file():\n",
        "    if not Path(\"requirements.txt\").exists():\n",
        "        requirements = [\"transformers\"]\n",
        "        with open('requirements.txt', 'w') as filehandle:\n",
        "            for listitem in requirements:\n",
        "                filehandle.write('%s\\n' % listitem)\n",
        "    \n",
        "create_requirements_file()"
      ],
      "execution_count": null,
      "outputs": []
    },
    {
      "cell_type": "code",
      "metadata": {
        "id": "3hwEAche8LUf"
      },
      "source": [
        "!pip install -q -r requirements.txt"
      ],
      "execution_count": null,
      "outputs": []
    },
    {
      "cell_type": "code",
      "metadata": {
        "id": "1mISkqkSFz1d"
      },
      "source": [
        "# !wget -q https://ml-inference.s3-us-west-2.amazonaws.com/hugging_face_imdb_training.zip\n",
        "!wget https://ml-inference.s3-us-west-2.amazonaws.com/hugging_face_imdb_training.zip"
      ],
      "execution_count": null,
      "outputs": []
    },
    {
      "cell_type": "code",
      "metadata": {
        "id": "abc--X0nF9es"
      },
      "source": [
        "!unzip -n hugging_face_imdb_training.zip"
      ],
      "execution_count": null,
      "outputs": []
    },
    {
      "cell_type": "code",
      "metadata": {
        "id": "eD6685IonFqb"
      },
      "source": [
        "from transformers import DistilBertForSequenceClassification, DistilBertTokenizer\n",
        "model_path = Path(\"./model\")\n",
        "model_new = DistilBertForSequenceClassification.from_pretrained(model_path)\n",
        "tokenizer_new = DistilBertTokenizer.from_pretrained(model_path/\"tokenizer\")"
      ],
      "execution_count": null,
      "outputs": []
    },
    {
      "cell_type": "code",
      "metadata": {
        "id": "j5auCaWFcSnl"
      },
      "source": [
        "!pip install -q git+https://github.com/matthewchung74/inference_params.git"
      ],
      "execution_count": null,
      "outputs": []
    },
    {
      "cell_type": "code",
      "metadata": {
        "id": "OAk2UoWhnFsw"
      },
      "source": [
        "import torch.nn.functional as F\n",
        "import torch\n",
        "from inference_params.inference_params import inference_test, FieldType, inference_predict\n",
        "\n",
        "class_names =[\"negative\", \"positive\"]\n",
        "\n",
        "# text input will be the label for the app input\n",
        "input = {\"text input\": FieldType.Text}\n",
        "# result will be the label for the app output\n",
        "output = {\"result\": FieldType.Text}\n",
        "\n",
        "@inference_predict(input=input, output=output)\n",
        "def predict(params):\n",
        "    text = params['text input']\n",
        "    inputs = tokenizer_new(text, return_tensors=\"pt\")\n",
        "    labels = torch.tensor([1]).unsqueeze(0)  # Batch size 1\n",
        "    outputs = model_new(**inputs, labels=labels)\n",
        "    logits = outputs.logits\n",
        "    probabilities = F.softmax(logits, dim=1)\n",
        "    confidence, predicted_class = torch.max(probabilities, dim=1)\n",
        "    return {\"result\": f\"{class_names[predicted_class]}, confidence: {confidence.item()}\"}"
      ],
      "execution_count": null,
      "outputs": []
    },
    {
      "cell_type": "code",
      "metadata": {
        "id": "E2BtcXbdcZX_"
      },
      "source": [
        "from inference_params.inference_params import in_colab\n",
        "\n",
        "if in_colab():\n",
        "    inference_test(predict_func=predict, params={'text input': 'loved that movie'})"
      ],
      "execution_count": null,
      "outputs": []
    },
    {
      "cell_type": "code",
      "metadata": {
        "id": "YXiAv-m8GrjH"
      },
      "source": [
        "if in_colab():\n",
        "    predict({'text input':'this movie is awesome'}) "
      ],
      "execution_count": null,
      "outputs": []
    },
    {
      "cell_type": "code",
      "metadata": {
        "id": "-irGIontGxbu"
      },
      "source": [
        "if in_colab():\n",
        "    predict({'text input':'this movie is very bad'})"
      ],
      "execution_count": null,
      "outputs": []
    }
  ]
}