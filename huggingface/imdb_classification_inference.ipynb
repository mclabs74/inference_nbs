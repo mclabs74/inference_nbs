{
  "nbformat": 4,
  "nbformat_minor": 0,
  "metadata": {
    "colab": {
      "name": "hugging_face_imdb_classification_inference",
      "provenance": [],
      "collapsed_sections": [],
      "authorship_tag": "ABX9TyPlCB8ifxDBPIIhs26Xt4pU",
      "include_colab_link": true
    },
    "kernelspec": {
      "name": "python3",
      "display_name": "Python 3"
    },
    "language_info": {
      "name": "python"
    }
  },
  "cells": [
    {
      "cell_type": "markdown",
      "metadata": {
        "id": "view-in-github",
        "colab_type": "text"
      },
      "source": [
        "<a href=\"https://colab.research.google.com/github/matthewchung74/inference_nbs/blob/main/huggingface/imdb_classification_inference.ipynb\" target=\"_parent\"><img src=\"https://colab.research.google.com/assets/colab-badge.svg\" alt=\"Open In Colab\"/></a>"
      ]
    },
    {
      "cell_type": "code",
      "metadata": {
        "id": "E5lQP14OnE-H"
      },
      "source": [
        "# main_branch\n",
        "from pathlib import Path\n",
        "\n",
        "def create_requirements_file():\n",
        "    if not Path(\"requirements.txt\").exists():\n",
        "        requirements = [\"transformers\"]\n",
        "        with open('requirements.txt', 'w') as filehandle:\n",
        "            for listitem in requirements:\n",
        "                filehandle.write('%s\\n' % listitem)\n",
        "    \n",
        "create_requirements_file()"
      ],
      "execution_count": 1,
      "outputs": []
    },
    {
      "cell_type": "code",
      "metadata": {
        "colab": {
          "base_uri": "https://localhost:8080/"
        },
        "id": "3hwEAche8LUf",
        "outputId": "842397be-46c9-42ff-8c0b-c4d0164ab374"
      },
      "source": [
        "!pip install -r requirements.txt"
      ],
      "execution_count": 2,
      "outputs": [
        {
          "output_type": "stream",
          "text": [
            "Requirement already satisfied: transformers in /usr/local/lib/python3.7/dist-packages (from -r requirements.txt (line 1)) (4.5.1)\n",
            "Requirement already satisfied: importlib-metadata; python_version < \"3.8\" in /usr/local/lib/python3.7/dist-packages (from transformers->-r requirements.txt (line 1)) (3.10.1)\n",
            "Requirement already satisfied: regex!=2019.12.17 in /usr/local/lib/python3.7/dist-packages (from transformers->-r requirements.txt (line 1)) (2019.12.20)\n",
            "Requirement already satisfied: requests in /usr/local/lib/python3.7/dist-packages (from transformers->-r requirements.txt (line 1)) (2.25.1)\n",
            "Requirement already satisfied: filelock in /usr/local/lib/python3.7/dist-packages (from transformers->-r requirements.txt (line 1)) (3.0.12)\n",
            "Requirement already satisfied: tokenizers<0.11,>=0.10.1 in /usr/local/lib/python3.7/dist-packages (from transformers->-r requirements.txt (line 1)) (0.10.2)\n",
            "Requirement already satisfied: sacremoses in /usr/local/lib/python3.7/dist-packages (from transformers->-r requirements.txt (line 1)) (0.0.45)\n",
            "Requirement already satisfied: numpy>=1.17 in /usr/local/lib/python3.7/dist-packages (from transformers->-r requirements.txt (line 1)) (1.19.5)\n",
            "Requirement already satisfied: packaging in /usr/local/lib/python3.7/dist-packages (from transformers->-r requirements.txt (line 1)) (20.9)\n",
            "Requirement already satisfied: tqdm>=4.27 in /usr/local/lib/python3.7/dist-packages (from transformers->-r requirements.txt (line 1)) (4.41.1)\n",
            "Requirement already satisfied: zipp>=0.5 in /usr/local/lib/python3.7/dist-packages (from importlib-metadata; python_version < \"3.8\"->transformers->-r requirements.txt (line 1)) (3.4.1)\n",
            "Requirement already satisfied: typing-extensions>=3.6.4; python_version < \"3.8\" in /usr/local/lib/python3.7/dist-packages (from importlib-metadata; python_version < \"3.8\"->transformers->-r requirements.txt (line 1)) (3.7.4.3)\n",
            "Requirement already satisfied: idna<3,>=2.5 in /usr/local/lib/python3.7/dist-packages (from requests->transformers->-r requirements.txt (line 1)) (2.10)\n",
            "Requirement already satisfied: chardet<5,>=3.0.2 in /usr/local/lib/python3.7/dist-packages (from requests->transformers->-r requirements.txt (line 1)) (3.0.4)\n",
            "Requirement already satisfied: certifi>=2017.4.17 in /usr/local/lib/python3.7/dist-packages (from requests->transformers->-r requirements.txt (line 1)) (2020.12.5)\n",
            "Requirement already satisfied: urllib3<1.27,>=1.21.1 in /usr/local/lib/python3.7/dist-packages (from requests->transformers->-r requirements.txt (line 1)) (1.24.3)\n",
            "Requirement already satisfied: six in /usr/local/lib/python3.7/dist-packages (from sacremoses->transformers->-r requirements.txt (line 1)) (1.15.0)\n",
            "Requirement already satisfied: click in /usr/local/lib/python3.7/dist-packages (from sacremoses->transformers->-r requirements.txt (line 1)) (7.1.2)\n",
            "Requirement already satisfied: joblib in /usr/local/lib/python3.7/dist-packages (from sacremoses->transformers->-r requirements.txt (line 1)) (1.0.1)\n",
            "Requirement already satisfied: pyparsing>=2.0.2 in /usr/local/lib/python3.7/dist-packages (from packaging->transformers->-r requirements.txt (line 1)) (2.4.7)\n"
          ],
          "name": "stdout"
        }
      ]
    },
    {
      "cell_type": "code",
      "metadata": {
        "colab": {
          "base_uri": "https://localhost:8080/"
        },
        "id": "1mISkqkSFz1d",
        "outputId": "08000712-cde2-4157-8830-7dbccf2e36f9"
      },
      "source": [
        "!wget https://ml-inference.s3-us-west-2.amazonaws.com/hugging_face_imdb_training.zip"
      ],
      "execution_count": 3,
      "outputs": [
        {
          "output_type": "stream",
          "text": [
            "--2021-04-27 00:18:28--  https://ml-inference.s3-us-west-2.amazonaws.com/hugging_face_imdb_training.zip\n",
            "Resolving ml-inference.s3-us-west-2.amazonaws.com (ml-inference.s3-us-west-2.amazonaws.com)... 52.218.177.49\n",
            "Connecting to ml-inference.s3-us-west-2.amazonaws.com (ml-inference.s3-us-west-2.amazonaws.com)|52.218.177.49|:443... connected.\n",
            "HTTP request sent, awaiting response... 200 OK\n",
            "Length: 246898598 (235M) [application/zip]\n",
            "Saving to: ‘hugging_face_imdb_training.zip.3’\n",
            "\n",
            "hugging_face_imdb_t 100%[===================>] 235.46M  47.1MB/s    in 5.5s    \n",
            "\n",
            "2021-04-27 00:18:34 (43.1 MB/s) - ‘hugging_face_imdb_training.zip.3’ saved [246898598/246898598]\n",
            "\n"
          ],
          "name": "stdout"
        }
      ]
    },
    {
      "cell_type": "code",
      "metadata": {
        "colab": {
          "base_uri": "https://localhost:8080/"
        },
        "id": "abc--X0nF9es",
        "outputId": "1f5062fb-04dd-4df9-b42d-4f8e51751a5d"
      },
      "source": [
        "!unzip -n hugging_face_imdb_training.zip"
      ],
      "execution_count": 4,
      "outputs": [
        {
          "output_type": "stream",
          "text": [
            "Archive:  hugging_face_imdb_training.zip\n"
          ],
          "name": "stdout"
        }
      ]
    },
    {
      "cell_type": "code",
      "metadata": {
        "id": "eD6685IonFqb"
      },
      "source": [
        "from transformers import DistilBertForSequenceClassification, DistilBertTokenizer\n",
        "model_path = Path(\"./model\")\n",
        "model_new = DistilBertForSequenceClassification.from_pretrained(model_path)\n",
        "tokenizer_new = DistilBertTokenizer.from_pretrained(model_path/\"tokenizer\")"
      ],
      "execution_count": 5,
      "outputs": []
    },
    {
      "cell_type": "code",
      "metadata": {
        "colab": {
          "base_uri": "https://localhost:8080/"
        },
        "id": "j5auCaWFcSnl",
        "outputId": "417b79ac-4bdd-4cfd-95a0-72c3aac96ea1"
      },
      "source": [
        "!pip install -q git+https://github.com/matthewchung74/inference_params.git"
      ],
      "execution_count": 6,
      "outputs": [
        {
          "output_type": "stream",
          "text": [
            "  Installing build dependencies ... \u001b[?25l\u001b[?25hdone\n",
            "  Getting requirements to build wheel ... \u001b[?25l\u001b[?25hdone\n",
            "    Preparing wheel metadata ... \u001b[?25l\u001b[?25hdone\n",
            "  Building wheel for inference-params (PEP 517) ... \u001b[?25l\u001b[?25hdone\n"
          ],
          "name": "stdout"
        }
      ]
    },
    {
      "cell_type": "code",
      "metadata": {
        "id": "OAk2UoWhnFsw"
      },
      "source": [
        "import torch.nn.functional as F\n",
        "import torch\n",
        "from inference_params.inference_params import inference_test, FieldType, inference_predict\n",
        "\n",
        "class_names =[\"negative\", \"positive\"]\n",
        "\n",
        "# text input will be the label for the app input\n",
        "input = {\"text input\": FieldType.Text}\n",
        "# result will be the label for the app output\n",
        "output = {\"result\": FieldType.Text}\n",
        "\n",
        "@inference_predict(input=input, output=output)\n",
        "def predict(params):\n",
        "    text = params['text input']\n",
        "    inputs = tokenizer_new(text, return_tensors=\"pt\")\n",
        "    labels = torch.tensor([1]).unsqueeze(0)  # Batch size 1\n",
        "    outputs = model_new(**inputs, labels=labels)\n",
        "    logits = outputs.logits\n",
        "    probabilities = F.softmax(logits, dim=1)\n",
        "    confidence, predicted_class = torch.max(probabilities, dim=1)\n",
        "    return {\"result\": f\"{class_names[predicted_class]}, confidence: {confidence.item()}\"}"
      ],
      "execution_count": 7,
      "outputs": []
    },
    {
      "cell_type": "code",
      "metadata": {
        "colab": {
          "base_uri": "https://localhost:8080/"
        },
        "id": "E2BtcXbdcZX_",
        "outputId": "d3671200-9a94-4175-cbf6-e919adf3fdba"
      },
      "source": [
        "from inference_params.inference_params import in_colab\n",
        "\n",
        "if in_colab():\n",
        "    inference_test(predict_func=predict, params={'text input': 'loved that movie'})"
      ],
      "execution_count": 8,
      "outputs": [
        {
          "output_type": "stream",
          "text": [
            "Wrote results to result.json duration: 0.052086 seconds\n",
            "Please take a look and verify the results\n"
          ],
          "name": "stdout"
        }
      ]
    },
    {
      "cell_type": "code",
      "metadata": {
        "id": "YXiAv-m8GrjH"
      },
      "source": [
        "if in_colab():\n",
        "    predict({'text input':'this movie is awesome'}) "
      ],
      "execution_count": 9,
      "outputs": []
    },
    {
      "cell_type": "code",
      "metadata": {
        "id": "-irGIontGxbu"
      },
      "source": [
        "if in_colab():\n",
        "    predict({'text input':'this movie is very bad'})"
      ],
      "execution_count": 10,
      "outputs": []
    }
  ]
}