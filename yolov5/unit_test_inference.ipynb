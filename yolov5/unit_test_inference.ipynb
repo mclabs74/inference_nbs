{
  "nbformat": 4,
  "nbformat_minor": 0,
  "metadata": {
    "colab": {
      "name": "pretrained_pil_inference",
      "provenance": [],
      "collapsed_sections": [],
      "include_colab_link": true
    },
    "kernelspec": {
      "name": "python3",
      "display_name": "Python 3"
    },
    "language_info": {
      "name": "python"
    }
  },
  "cells": [
    {
      "cell_type": "markdown",
      "metadata": {
        "id": "view-in-github",
        "colab_type": "text"
      },
      "source": [
        "<a href=\"https://colab.research.google.com/github/mclabs74/inference_nbs/blob/dev/yolov5/unit_test_inference.ipynb\" target=\"_parent\"><img src=\"https://colab.research.google.com/assets/colab-badge.svg\" alt=\"Open In Colab\"/></a>"
      ]
    },
    {
      "cell_type": "code",
      "metadata": {
        "id": "j5auCaWFcSnl"
      },
      "source": [
        "!pip install --no-cache-dir  --upgrade --force-reinstall git+https://github.com/yhatpub/yhat_params.git@main"
      ],
      "execution_count": null,
      "outputs": []
    },
    {
      "cell_type": "code",
      "metadata": {
        "id": "OAk2UoWhnFsw"
      },
      "source": [
        "import torch.nn.functional as F\n",
        "import torch\n",
        "import io\n",
        "import base64\n",
        "import json\n",
        "\n",
        "from yhat_params.yhat_tools import inference_test, FieldType, inference_predict\n",
        "\n",
        "input = {\"text\": FieldType.Text, \"image\": FieldType.PIL}\n",
        "output = {\"text\": FieldType.Text, \"image\": FieldType.PIL}\n",
        "\n",
        "@inference_predict(input=input, output=output)\n",
        "def predict(params):\n",
        "    text = params['text']\n",
        "    image = params['image']\n",
        "    return {\"text\": text, \"image\": image}"
      ],
      "execution_count": null,
      "outputs": []
    },
    {
      "cell_type": "code",
      "metadata": {
        "id": "E2BtcXbdcZX_"
      },
      "source": [
        "from yhat_params.yhat_tools import in_colab\n",
        "from PIL import Image\n",
        "\n",
        "if in_colab():\n",
        "    torch.hub.download_url_to_file('https://upload.wikimedia.org/wikipedia/en/4/48/Blank.JPG', '1x1.jpg')\n",
        "    img = Image.open('1x1.jpg')  \n",
        "\n",
        "if in_colab():\n",
        "    inference_test(predict_func=predict, params={'text': 'my text', 'image': img})"
      ],
      "execution_count": null,
      "outputs": []
    },
    {
      "cell_type": "code",
      "metadata": {
        "id": "PIZh4SfkoZXv"
      },
      "source": [
        ""
      ],
      "execution_count": null,
      "outputs": []
    }
  ]
}