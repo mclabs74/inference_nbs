{
  "nbformat": 4,
  "nbformat_minor": 0,
  "metadata": {
    "colab": {
      "name": "pretrained_pil_inference",
      "provenance": [],
      "collapsed_sections": [],
      "authorship_tag": "ABX9TyMwZqbX+ZHpIvshRWKAh+kW",
      "include_colab_link": true
    },
    "kernelspec": {
      "name": "python3",
      "display_name": "Python 3"
    },
    "language_info": {
      "name": "python"
    }
  },
  "cells": [
    {
      "cell_type": "markdown",
      "metadata": {
        "id": "view-in-github",
        "colab_type": "text"
      },
      "source": [
        "<a href=\"https://colab.research.google.com/github/mclabs74/inference_nbs/blob/dev/yolov5/pretrained_pil_inference.ipynb\" target=\"_parent\"><img src=\"https://colab.research.google.com/assets/colab-badge.svg\" alt=\"Open In Colab\"/></a>"
      ]
    },
    {
      "cell_type": "markdown",
      "metadata": {
        "id": "k25eRV2CDtMW"
      },
      "source": [
        "based on https://github.com/ultralytics/yolov5/issues/36"
      ]
    },
    {
      "cell_type": "code",
      "metadata": {
        "id": "E5lQP14OnE-H"
      },
      "source": [
        "!pip install -r https://raw.githubusercontent.com/ultralytics/yolov5/master/requirements.txt"
      ],
      "execution_count": null,
      "outputs": []
    },
    {
      "cell_type": "code",
      "metadata": {
        "id": "abc--X0nF9es"
      },
      "source": [
        "import cv2\n",
        "import torch\n",
        "from PIL import Image\n",
        "import torch\n",
        "torch.hub.set_dir(\"./model\")\n",
        "model = torch.hub.load('ultralytics/yolov5', 'yolov5s', pretrained=True)"
      ],
      "execution_count": null,
      "outputs": []
    },
    {
      "cell_type": "code",
      "metadata": {
        "id": "j5auCaWFcSnl"
      },
      "source": [
        "!pip install -q git+https://github.com/matthewchung74/inference_params.git"
      ],
      "execution_count": null,
      "outputs": []
    },
    {
      "cell_type": "code",
      "metadata": {
        "id": "OAk2UoWhnFsw"
      },
      "source": [
        "import torch.nn.functional as F\n",
        "import torch\n",
        "import io\n",
        "import base64\n",
        "import json\n",
        "\n",
        "from inference_params.inference_params import inference_test, FieldType, inference_predict\n",
        "\n",
        "# text input will be the label for the app input\n",
        "input = {\"image input\": FieldType.PIL}\n",
        "# result will be the label for the app output\n",
        "output = {\"result image\": FieldType.PIL, \"result text\": FieldType.Text}\n",
        "\n",
        "@inference_predict(input=input, output=output)\n",
        "def predict(params):\n",
        "    img = params['image input']\n",
        "    results = model(img)  # inference\n",
        "    results.imgs # array of original images (as np array) passed to model for inference\n",
        "    results.render()  # updates results.imgs with boxes and labels\n",
        "    pil_image = Image.fromarray(results.imgs[0])\n",
        "    records = results.pandas().xyxy[0].to_csv()\n",
        "    return {\"result image\": pil_image, \"result text\": records}"
      ],
      "execution_count": null,
      "outputs": []
    },
    {
      "cell_type": "code",
      "metadata": {
        "id": "0UNMjrAzFTy9"
      },
      "source": [
        "from inference_params.inference_params import in_colab\n",
        "\n",
        "if in_colab():\n",
        "    torch.hub.download_url_to_file('https://github.com/ultralytics/yolov5/releases/download/v1.0/zidane.jpg', 'zidane.jpg')\n",
        "    img = Image.open('zidane.jpg')  # PIL image\n",
        "\n",
        "    from inference_params.inference_params import in_colab\n",
        "    from matplotlib.pyplot import imshow\n",
        "    import numpy as np\n",
        "\n",
        "    from google.colab.patches import cv2_imshow\n",
        "    result, duration = predict({'image input': img})\n",
        "    result_image = result['result image']\n",
        "    result_text = result['result text']\n",
        "\n",
        "    print(result_text)\n",
        "    display(result_image)"
      ],
      "execution_count": null,
      "outputs": []
    },
    {
      "cell_type": "code",
      "metadata": {
        "id": "E2BtcXbdcZX_"
      },
      "source": [
        "from inference_params.inference_params import in_colab\n",
        "\n",
        "if in_colab():\n",
        "    inference_test(predict_func=predict, params={'image input': img})"
      ],
      "execution_count": null,
      "outputs": []
    }
  ]
}