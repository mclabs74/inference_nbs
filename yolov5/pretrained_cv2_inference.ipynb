{
  "nbformat": 4,
  "nbformat_minor": 0,
  "metadata": {
    "colab": {
      "name": "pretrained_cv2_inference",
      "provenance": [],
      "collapsed_sections": [],
      "authorship_tag": "ABX9TyNtk9S/RDNlXyeEgVR/Wz/U",
      "include_colab_link": true
    },
    "kernelspec": {
      "name": "python3",
      "display_name": "Python 3"
    },
    "language_info": {
      "name": "python"
    }
  },
  "cells": [
    {
      "cell_type": "markdown",
      "metadata": {
        "id": "view-in-github",
        "colab_type": "text"
      },
      "source": [
        "<a href=\"https://colab.research.google.com/github/matthewchung74/inference_nbs/blob/main/yolov5/pretrained_cv2_inference.ipynb\" target=\"_parent\"><img src=\"https://colab.research.google.com/assets/colab-badge.svg\" alt=\"Open In Colab\"/></a>"
      ]
    },
    {
      "cell_type": "markdown",
      "metadata": {
        "id": "k25eRV2CDtMW"
      },
      "source": [
        "based on https://github.com/ultralytics/yolov5/issues/36"
      ]
    },
    {
      "cell_type": "code",
      "metadata": {
        "id": "E5lQP14OnE-H",
        "collapsed": true
      },
      "source": [
        "pip install -r https://raw.githubusercontent.com/ultralytics/yolov5/master/requirements.txt"
      ],
      "execution_count": null,
      "outputs": []
    },
    {
      "cell_type": "code",
      "metadata": {
        "id": "abc--X0nF9es"
      },
      "source": [
        "import cv2\n",
        "import torch\n",
        "from PIL import Image\n",
        "\n",
        "model = torch.hub.load('ultralytics/yolov5', 'yolov5s')"
      ],
      "execution_count": null,
      "outputs": []
    },
    {
      "cell_type": "code",
      "metadata": {
        "id": "j5auCaWFcSnl"
      },
      "source": [
        "!pip install -q git+https://github.com/matthewchung74/inference_params.git"
      ],
      "execution_count": null,
      "outputs": []
    },
    {
      "cell_type": "code",
      "metadata": {
        "id": "OAk2UoWhnFsw"
      },
      "source": [
        "import torch.nn.functional as F\n",
        "import cv2\n",
        "import torch\n",
        "import io\n",
        "import base64\n",
        "import json\n",
        "\n",
        "from inference_params.inference_params import inference_test, FieldType, inference_predict\n",
        "\n",
        "# image input will be the label for the app input\n",
        "input = {\"image input\": FieldType.OpenCV}\n",
        "# result will be the rendered image\n",
        "output = {\"result image\": FieldType.OpenCV, \"num boxes\": FieldType.Text}\n",
        "\n",
        "@inference_predict(input=input, output=output)\n",
        "def predict(params):\n",
        "    img = params['image input']\n",
        "    results = model(img)  # inference\n",
        "    results.imgs # array of original images (as np array) passed to model for inference\n",
        "    results.render()  # updates results.imgs with boxes and labels\n",
        "    cv2_image = cv2.cvtColor(results.imgs[0], cv2.COLOR_BGR2RGB)\n",
        "    num_boxes = f\"number of boxes {len(results.pandas().xyxy[0])}\"\n",
        "    return {\"result image\": cv2_image, \"num boxes\":num_boxes}"
      ],
      "execution_count": null,
      "outputs": []
    },
    {
      "cell_type": "code",
      "metadata": {
        "id": "0UNMjrAzFTy9"
      },
      "source": [
        "from inference_params.inference_params import in_colab\n",
        "\n",
        "if in_colab():\n",
        "    from google.colab.patches import cv2_imshow\n",
        "\n",
        "    torch.hub.download_url_to_file('https://github.com/ultralytics/yolov5/releases/download/v1.0/bus.jpg', 'bus.jpg')\n",
        "    img = cv2.imread('bus.jpg')[:, :, ::-1] \n",
        "\n",
        "    from inference_params.inference_params import in_colab\n",
        "    from matplotlib.pyplot import imshow\n",
        "    import numpy as np\n",
        "\n",
        "    from google.colab.patches import cv2_imshow\n",
        "    result, duration = predict({'image input': img})\n",
        "    result_image = result['result image']\n",
        "    num_boxes = result['num boxes']\n",
        "    print(num_boxes)\n",
        "    cv2_imshow(result_image)"
      ],
      "execution_count": null,
      "outputs": []
    },
    {
      "cell_type": "code",
      "metadata": {
        "id": "d1AIqMRWHBNZ"
      },
      "source": [
        "from inference_params.inference_params import in_colab\n",
        "\n",
        "if in_colab():\n",
        "    inference_test(predict_func=predict, params={'image input': img})"
      ],
      "execution_count": null,
      "outputs": []
    },
    {
      "cell_type": "code",
      "metadata": {
        "id": "HNjmiUDCqlYh"
      },
      "source": [
        ""
      ],
      "execution_count": null,
      "outputs": []
    }
  ]
}